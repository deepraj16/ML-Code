{
 "cells": [
  {
   "cell_type": "code",
   "execution_count": 2,
   "id": "b324f55c-b546-4aff-9ecc-57e210427747",
   "metadata": {},
   "outputs": [],
   "source": [
    "import pandas as pd \n",
    "import matplotlib.pyplot as plt  \n",
    "import numpy as np  \n"
   ]
  },
  {
   "cell_type": "code",
   "execution_count": 3,
   "id": "2b652f14-4f9a-4cc4-a5f0-f017ceb1f0bc",
   "metadata": {},
   "outputs": [],
   "source": [
    "df =pd.read_csv('BostonHousing.csv')"
   ]
  },
  {
   "cell_type": "code",
   "execution_count": 4,
   "id": "c6c216f7-89a3-41aa-82e6-99a3f06f96d1",
   "metadata": {},
   "outputs": [
    {
     "data": {
      "text/html": [
       "<div>\n",
       "<style scoped>\n",
       "    .dataframe tbody tr th:only-of-type {\n",
       "        vertical-align: middle;\n",
       "    }\n",
       "\n",
       "    .dataframe tbody tr th {\n",
       "        vertical-align: top;\n",
       "    }\n",
       "\n",
       "    .dataframe thead th {\n",
       "        text-align: right;\n",
       "    }\n",
       "</style>\n",
       "<table border=\"1\" class=\"dataframe\">\n",
       "  <thead>\n",
       "    <tr style=\"text-align: right;\">\n",
       "      <th></th>\n",
       "      <th>crim</th>\n",
       "      <th>zn</th>\n",
       "      <th>indus</th>\n",
       "      <th>chas</th>\n",
       "      <th>nox</th>\n",
       "      <th>rm</th>\n",
       "      <th>age</th>\n",
       "      <th>dis</th>\n",
       "      <th>rad</th>\n",
       "      <th>tax</th>\n",
       "      <th>ptratio</th>\n",
       "      <th>b</th>\n",
       "      <th>lstat</th>\n",
       "      <th>medv</th>\n",
       "    </tr>\n",
       "  </thead>\n",
       "  <tbody>\n",
       "    <tr>\n",
       "      <th>144</th>\n",
       "      <td>2.77974</td>\n",
       "      <td>0.0</td>\n",
       "      <td>19.58</td>\n",
       "      <td>0</td>\n",
       "      <td>0.871</td>\n",
       "      <td>4.903</td>\n",
       "      <td>97.8</td>\n",
       "      <td>1.3459</td>\n",
       "      <td>5</td>\n",
       "      <td>403</td>\n",
       "      <td>14.7</td>\n",
       "      <td>396.90</td>\n",
       "      <td>29.29</td>\n",
       "      <td>11.8</td>\n",
       "    </tr>\n",
       "    <tr>\n",
       "      <th>20</th>\n",
       "      <td>1.25179</td>\n",
       "      <td>0.0</td>\n",
       "      <td>8.14</td>\n",
       "      <td>0</td>\n",
       "      <td>0.538</td>\n",
       "      <td>5.570</td>\n",
       "      <td>98.1</td>\n",
       "      <td>3.7979</td>\n",
       "      <td>4</td>\n",
       "      <td>307</td>\n",
       "      <td>21.0</td>\n",
       "      <td>376.57</td>\n",
       "      <td>21.02</td>\n",
       "      <td>13.6</td>\n",
       "    </tr>\n",
       "  </tbody>\n",
       "</table>\n",
       "</div>"
      ],
      "text/plain": [
       "        crim   zn  indus  chas    nox     rm   age     dis  rad  tax  ptratio       b  lstat  medv\n",
       "144  2.77974  0.0  19.58     0  0.871  4.903  97.8  1.3459    5  403     14.7  396.90  29.29  11.8\n",
       "20   1.25179  0.0   8.14     0  0.538  5.570  98.1  3.7979    4  307     21.0  376.57  21.02  13.6"
      ]
     },
     "execution_count": 4,
     "metadata": {},
     "output_type": "execute_result"
    }
   ],
   "source": [
    "df.sample(2)"
   ]
  },
  {
   "cell_type": "code",
   "execution_count": 30,
   "id": "bef1ff31-1f0d-4b12-a007-07316642ce2b",
   "metadata": {},
   "outputs": [],
   "source": [
    "X=df.drop(columns=['medv'])"
   ]
  },
  {
   "cell_type": "code",
   "execution_count": 31,
   "id": "47cd7211-e103-48b2-8d9b-f0127cfff81d",
   "metadata": {},
   "outputs": [],
   "source": [
    "y=df['medv']"
   ]
  },
  {
   "cell_type": "code",
   "execution_count": 32,
   "id": "c631280b-1aed-4723-a37d-ed20034c1ea5",
   "metadata": {},
   "outputs": [
    {
     "data": {
      "text/plain": [
       "(506, 13)"
      ]
     },
     "execution_count": 32,
     "metadata": {},
     "output_type": "execute_result"
    }
   ],
   "source": [
    "X.shape"
   ]
  },
  {
   "cell_type": "code",
   "execution_count": 33,
   "id": "0b2c4eaf-0b84-4ec9-aa21-97df0f394f12",
   "metadata": {},
   "outputs": [
    {
     "data": {
      "text/plain": [
       "(506,)"
      ]
     },
     "execution_count": 33,
     "metadata": {},
     "output_type": "execute_result"
    }
   ],
   "source": [
    "y.shape"
   ]
  },
  {
   "cell_type": "code",
   "execution_count": 34,
   "id": "ace37004-eebd-437f-941e-9e1028f9c4ba",
   "metadata": {},
   "outputs": [],
   "source": [
    "from sklearn.linear_model import LinearRegression \n",
    "from sklearn.tree import DecisionTreeRegressor \n",
    "from sklearn.svm import SVR \n",
    "from sklearn.model_selection import cross_val_score"
   ]
  },
  {
   "cell_type": "code",
   "execution_count": 20,
   "id": "c0a3802c-8b4e-466d-a065-9c9d3d100a8e",
   "metadata": {},
   "outputs": [],
   "source": [
    "lr=LinearRegression()\n",
    "dt=DecisionTreeRegressor()\n",
    "svr=SVR()"
   ]
  },
  {
   "cell_type": "code",
   "execution_count": 35,
   "id": "9405efd1-4375-44fc-b827-e4ae030e1bfa",
   "metadata": {},
   "outputs": [],
   "source": [
    "estimators=[('lr',lr),('dt',dt),('svr',svr)]"
   ]
  },
  {
   "cell_type": "code",
   "execution_count": 36,
   "id": "3d3f8e27-777d-449d-9fee-0e4f7c6c458c",
   "metadata": {},
   "outputs": [
    {
     "name": "stdout",
     "output_type": "stream",
     "text": [
      "lr 0.2\n",
      "dt -0.14\n",
      "svr -0.41\n"
     ]
    }
   ],
   "source": [
    "for estimator in estimators: \n",
    "    score=cross_val_score(estimator[1],X,y,scoring='r2',cv=10)\n",
    "    print(estimator[0],np.round(np.mean(score),2))"
   ]
  },
  {
   "cell_type": "code",
   "execution_count": 29,
   "id": "94d201fb-4db4-4cce-8c81-0947a5d20ab0",
   "metadata": {},
   "outputs": [],
   "source": [
    "from sklearn.impute import SimpleImputer \n",
    "sim =SimpleImputer(missing_values=np.NaN,strategy='mean') \n",
    "df['rm']=sim.fit_transform(df[['rm']])"
   ]
  },
  {
   "cell_type": "code",
   "execution_count": 41,
   "id": "ea411809-592c-42bd-a717-1002c96af424",
   "metadata": {},
   "outputs": [
    {
     "name": "stdout",
     "output_type": "stream",
     "text": [
      "voting Regessor 0.0 2\n"
     ]
    }
   ],
   "source": [
    "from sklearn.ensemble import VotingRegressor \n",
    "vr=VotingRegressor(estimators) \n",
    "score1=cross_val_score(vr,X,y,scoring='r2',cv=10)\n",
    "print(\"voting Regessor\",np.round(np.mean(score1)),2)\n",
    "#value is 41"
   ]
  },
  {
   "cell_type": "code",
   "execution_count": null,
   "id": "4fe98a81-1d90-4fca-a2b8-50b88d0bbc4c",
   "metadata": {},
   "outputs": [],
   "source": []
  }
 ],
 "metadata": {
  "kernelspec": {
   "display_name": "Python 3 (ipykernel)",
   "language": "python",
   "name": "python3"
  },
  "language_info": {
   "codemirror_mode": {
    "name": "ipython",
    "version": 3
   },
   "file_extension": ".py",
   "mimetype": "text/x-python",
   "name": "python",
   "nbconvert_exporter": "python",
   "pygments_lexer": "ipython3",
   "version": "3.11.7"
  },
  "widgets": {
   "application/vnd.jupyter.widget-state+json": {
    "state": {},
    "version_major": 2,
    "version_minor": 0
   }
  }
 },
 "nbformat": 4,
 "nbformat_minor": 5
}
